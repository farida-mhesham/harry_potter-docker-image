{
 "cells": [
  {
   "cell_type": "code",
   "execution_count": 2,
   "metadata": {},
   "outputs": [
    {
     "name": "stdout",
     "output_type": "stream",
     "text": [
      "Most Selling Harry Potter Books:\n",
      "    book_id  goodreads_book_id  best_book_id  work_id  books_count  \\\n",
      "1         2                  3             3  4640799          491   \n",
      "9        23              15881         15881  6231171          398   \n",
      "6        18                  5             5  2402163          376   \n",
      "10       24                  6             6  3046572          332   \n",
      "8        21                  2             2  2809203          307   \n",
      "\n",
      "          isbn        isbn13                                  authors  \\\n",
      "1    439554934  9.780440e+12              J.K. Rowling, Mary GrandPré   \n",
      "9    439064864  9.780439e+12              J.K. Rowling, Mary GrandPré   \n",
      "6   043965548X  9.780440e+12  J.K. Rowling, Mary GrandPré, Rufus Beck   \n",
      "10   439139600  9.780439e+12              J.K. Rowling, Mary GrandPré   \n",
      "8    439358078  9.780439e+12              J.K. Rowling, Mary GrandPré   \n",
      "\n",
      "    original_publication_year                             original_title  ...  \\\n",
      "1                      1997.0   Harry Potter and the Philosopher's Stone  ...   \n",
      "9                      1998.0    Harry Potter and the Chamber of Secrets  ...   \n",
      "6                      1999.0   Harry Potter and the Prisoner of Azkaban  ...   \n",
      "10                     2000.0        Harry Potter and the Goblet of Fire  ...   \n",
      "8                      2003.0  Harry Potter and the Order of the Phoenix  ...   \n",
      "\n",
      "   ratings_count work_ratings_count  work_text_reviews_count  ratings_1  \\\n",
      "1        4602479            4800065                    75867      75504   \n",
      "9        1779331            1906199                    34172       8253   \n",
      "6        1832823            1969375                    36099       6716   \n",
      "10       1753043            1868642                    31084       6676   \n",
      "8        1735368            1840548                    28685       9528   \n",
      "\n",
      "    ratings_2  ratings_3  ratings_4  ratings_5  \\\n",
      "1      101676     455024    1156318    3011543   \n",
      "9       42251     242345     548266    1065084   \n",
      "6       20413     166129     509447    1266670   \n",
      "10      20210     151785     494926    1195045   \n",
      "8       31577     180210     494427    1124806   \n",
      "\n",
      "                                            image_url  \\\n",
      "1   https://images.gr-assets.com/books/1474154022m...   \n",
      "9   https://images.gr-assets.com/books/1474169725m...   \n",
      "6   https://images.gr-assets.com/books/1499277281m...   \n",
      "10  https://images.gr-assets.com/books/1361482611m...   \n",
      "8   https://images.gr-assets.com/books/1387141547m...   \n",
      "\n",
      "                                      small_image_url  \n",
      "1   https://images.gr-assets.com/books/1474154022s...  \n",
      "9   https://images.gr-assets.com/books/1474169725s...  \n",
      "6   https://images.gr-assets.com/books/1499277281s...  \n",
      "10  https://images.gr-assets.com/books/1361482611s...  \n",
      "8   https://images.gr-assets.com/books/1387141547s...  \n",
      "\n",
      "[5 rows x 23 columns]\n",
      "\n",
      "Average Rating of Harry Potter Books: 4.4910000000000005\n"
     ]
    }
   ],
   "source": [
    "import pandas as pd\n",
    "\n",
    "# Read the CSV file\n",
    "books = pd.read_csv(\"C:\\\\Users\\\\Farida\\\\Documents\\\\Colleage\\\\Semester 4\\\\Cloud Computing\\\\Books.csv\")\n",
    "\n",
    "# Data Cleaning\n",
    "books.dropna(inplace=True)\n",
    "books.drop_duplicates(inplace=True)\n",
    "\n",
    "# Preprocessing\n",
    "harry_potter_df = books[books['title'].str.contains('Harry Potter')]\n",
    "\n",
    "most_selling_books = harry_potter_df.sort_values(by='books_count', ascending=False).head()\n",
    "\n",
    "# Calculate Average Rating\n",
    "average_rating = harry_potter_df['average_rating'].mean()\n",
    "\n",
    "# Display the results\n",
    "print(\"Most Selling Harry Potter Books:\")\n",
    "print(most_selling_books)\n",
    "print(\"\\nAverage Rating of Harry Potter Books:\",average_rating)"
   ]
  },
  {
   "cell_type": "code",
   "execution_count": null,
   "metadata": {},
   "outputs": [],
   "source": []
  }
 ],
 "metadata": {
  "kernelspec": {
   "display_name": "Python 3",
   "language": "python",
   "name": "python3"
  },
  "language_info": {
   "codemirror_mode": {
    "name": "ipython",
    "version": 3
   },
   "file_extension": ".py",
   "mimetype": "text/x-python",
   "name": "python",
   "nbconvert_exporter": "python",
   "pygments_lexer": "ipython3",
   "version": "3.11.4"
  }
 },
 "nbformat": 4,
 "nbformat_minor": 2
}
